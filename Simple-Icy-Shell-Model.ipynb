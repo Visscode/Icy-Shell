{
 "cells": [
  {
   "cell_type": "code",
   "execution_count": 15,
   "id": "d5088178",
   "metadata": {},
   "outputs": [
    {
     "data": {
      "text/plain": [
       "plots (generic function with 1 method)"
      ]
     },
     "execution_count": 15,
     "metadata": {},
     "output_type": "execute_result"
    }
   ],
   "source": [
    "# Importing (using/include) packages and files needed for the code to run \n",
    "using SparseArrays\n",
    "using LinearAlgebra\n",
    "using IterativeSolvers\n",
    "using WriteVTK\n",
    "using Printf\n",
    "using Statistics \n",
    "include(\"/Users/christianaguirre/GitHub/gerya-julia/Grid.jl\")\n",
    "include(\"/Users/christianaguirre/GitHub/gerya-julia/Markers.jl\")\n",
    "include(\"/Users/christianaguirre/GitHub/gerya-julia/Stokes.jl\")\n",
    "include(\"/Users/christianaguirre/GitHub/gerya-julia/Temperature.jl\")\n",
    "\n",
    "# Note: that we import pyplot last to avoid a name conflict with grid\n",
    "using PyPlot\n",
    "include(\"/Users/christianaguirre/GitHub/gerya-julia/Visualization.jl\")"
   ]
  },
  {
   "cell_type": "code",
   "execution_count": 20,
   "id": "f3a42c9f",
   "metadata": {},
   "outputs": [
    {
     "ename": "LoadError",
     "evalue": "UndefVarError: marker not defined",
     "output_type": "error",
     "traceback": [
      "UndefVarError: marker not defined",
      "",
      "Stacktrace:",
      " [1] top-level scope",
      "   @ In[20]:74",
      " [2] eval",
      "   @ ./boot.jl:368 [inlined]",
      " [3] include_string(mapexpr::typeof(REPL.softscope), mod::Module, code::String, filename::String)",
      "   @ Base ./loading.jl:1428"
     ]
    }
   ],
   "source": [
    "struct Materials\n",
    "    # 1 - subsurface global ocean\n",
    "    # 2 - icy shell\n",
    "    # 3 - sticky air\n",
    "    alpha::Vector{Float64}\n",
    "    rho0::Vector{Float64}\n",
    "    Hr::Vector{Float64}\n",
    "    Cp::Vector{Float64}\n",
    "    kThermal::Vector{Float64}\n",
    "    eta::Vector{Float64}\n",
    "    function Materials()\n",
    "         new([0.0,0.0,0.0],[1000.0,920.0,1.0],[0.0,0.0,0.0],[4180.0,2100,1.0],[0.5610,2.22,0.024],[1e12,eta_i,1e17])\n",
    "    end    \n",
    "end\n",
    "\n",
    "# Creating a function to assign viscosity if eta is not constant\n",
    "function compute_variable_eta(marker::Markers,materials::Materials)\n",
    "    eta_i = nothing\n",
    "    t_icy = nothing \n",
    "    Q = 40000 # Activation Enegry\n",
    "    R_cont = 8.314 # Gas Constant \n",
    "    for i in 1:markers.nmark\n",
    "        mx = markers.x[1,i]\n",
    "        my = markers.x[2,i]\n",
    "        if my < (0.1*90000.0*sin(mx(2*pi/90000.0))+0.5*90000.0)\n",
    "            t_icy[i] = 100.0+((273.0-100.0)/((0.1*90000.0*sin(mx*(2*pi/90000.0))+0.5*90000.0)-30000.0))*(my-30000.0)\n",
    "            eta_i[i] = (1e15)*exp((Q*(273.0-t_icy[i]))/(R_cont*(273.0*t_icy[i])))\n",
    "        end\n",
    "    end \n",
    "    return t_icy,eta_i\n",
    "end \n",
    "\n",
    "function update_marker_density!(markers::Markers,materials::Materials)\n",
    "    rho = markers.scalarFields[\"rho\"]\n",
    "    T = markers.scalarFields[\"T\"]\n",
    "    mmat = markers.integers[markers.integerFields[\"material\"],:]\n",
    "    for i in 1:markers.nmark                \n",
    "        markers.scalars[rho,i] = materials.rho0[mmat[i]]\n",
    "    end\n",
    "end\n",
    "\n",
    "function initial_conditions!(markers::Markers,materials::Materials)\n",
    "    material = markers.integerFields[\"material\"]\n",
    "    T = markers.scalarFields[\"T\"]\n",
    "    eta = markers.scalarFields[\"eta\"]\n",
    "    alpha = markers.scalarFields[\"alpha\"]\n",
    "    for i in 1:markers.nmark\n",
    "        mx = markers.x[1,i]\n",
    "        my = markers.x[2,i]\n",
    "        if my > (0.1*90000.0*sin(mx(2*pi/90000.0))+0.5*90000.0)\n",
    "             # subsurface global ocean\n",
    "             markers.integers[material,i] = 1\n",
    "             markers.scalars[T,i] = 273.0\n",
    "             markers.scalars[eta,i] = materials.eta[1]\n",
    "             markers.scalars[alpha,i] = materials.alpha[1]            \n",
    "        else\n",
    "             # icy shell\n",
    "             markers.integers[material,i] = 2\n",
    "             markers.scalars[T,i] = t_icy[i]\n",
    "             markers.scalars[eta,i] = materials.eta[2]\n",
    "             markers.scalars[alpha,i] = materials.alpha[2]            \n",
    "        end\n",
    "        if my < (90000.0/3)\n",
    "            # sticky air\n",
    "            markers.integers[material,i] = 3\n",
    "            markers.scalars[T,i] = 100.0            \n",
    "            markers.scalars[eta,i] = materials.eta[3]\n",
    "            markers.scalars[alpha,i] = materials.alpha[3]            \n",
    "        end\n",
    "        update_marker_density!(markers,materials)\n",
    "    end\n",
    "end"
   ]
  },
  {
   "cell_type": "code",
   "execution_count": 14,
   "id": "cf0ab9e5",
   "metadata": {},
   "outputs": [
    {
     "ename": "LoadError",
     "evalue": "type #grid has no field nx",
     "output_type": "error",
     "traceback": [
      "type #grid has no field nx",
      "",
      "Stacktrace:",
      " [1] getproperty(x::Function, f::Symbol)",
      "   @ Base ./Base.jl:38",
      " [2] top-level scope",
      "   @ In[14]:9",
      " [3] eval",
      "   @ ./boot.jl:368 [inlined]",
      " [4] include_string(mapexpr::typeof(REPL.softscope), mod::Module, code::String, filename::String)",
      "   @ Base ./loading.jl:1428"
     ]
    }
   ],
   "source": []
  },
  {
   "cell_type": "code",
   "execution_count": 17,
   "id": "aed6e790",
   "metadata": {},
   "outputs": [
    {
     "ename": "LoadError",
     "evalue": "UndefVarError: eta not defined",
     "output_type": "error",
     "traceback": [
      "UndefVarError: eta not defined",
      "",
      "Stacktrace:",
      " [1] top-level scope",
      "   @ In[17]:1",
      " [2] eval",
      "   @ ./boot.jl:368 [inlined]",
      " [3] include_string(mapexpr::typeof(REPL.softscope), mod::Module, code::String, filename::String)",
      "   @ Base ./loading.jl:1428"
     ]
    }
   ],
   "source": []
  },
  {
   "cell_type": "code",
   "execution_count": null,
   "id": "fdb4161a",
   "metadata": {},
   "outputs": [],
   "source": []
  }
 ],
 "metadata": {
  "kernelspec": {
   "display_name": "Julia 1.8.2",
   "language": "julia",
   "name": "julia-1.8"
  },
  "language_info": {
   "file_extension": ".jl",
   "mimetype": "application/julia",
   "name": "julia",
   "version": "1.8.2"
  }
 },
 "nbformat": 4,
 "nbformat_minor": 5
}
